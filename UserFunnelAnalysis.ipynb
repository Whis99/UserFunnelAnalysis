{
  "nbformat": 4,
  "nbformat_minor": 0,
  "metadata": {
    "colab": {
      "provenance": []
    },
    "kernelspec": {
      "name": "python3",
      "display_name": "Python 3"
    },
    "language_info": {
      "name": "python"
    }
  },
  "cells": [
    {
      "cell_type": "markdown",
      "source": [
        "# **User Funnel Analysis and Visualization with Matplotlib**"
      ],
      "metadata": {
        "id": "X7QnWMHnBdGQ"
      }
    },
    {
      "cell_type": "markdown",
      "source": [
        "# **Overview**"
      ],
      "metadata": {
        "id": "Flol4LdPRSAV"
      }
    },
    {
      "cell_type": "markdown",
      "source": [
        "For our analysis we will use an ecommerce dataset from kaggle (https://www.kaggle.com/datasets/aerodinamicc/ecommerce-website-funnel-analysis) showing the user conversion for each page on the website. We will collect, clean, transform if necessary, analyse, visualize our data and then provide insights about our findings."
      ],
      "metadata": {
        "id": "QqwRnXZJDT0q"
      }
    },
    {
      "cell_type": "markdown",
      "source": [
        "# **Collect the data**"
      ],
      "metadata": {
        "id": "cWzlG1xbMe3c"
      }
    },
    {
      "cell_type": "code",
      "execution_count": null,
      "metadata": {
        "id": "bURHEocG-f6u"
      },
      "outputs": [],
      "source": [
        "import numpy as np \n",
        "import pandas as pd \n",
        "import os\n",
        "import matplotlib.pyplot as plt\n",
        "\n",
        "dfHome = pd.read_csv('home_page_table.csv')\n",
        "dfSearch = pd.read_csv('search_page_table.csv')\n",
        "dfPaymentConf = pd.read_csv('payment_confirmation_table.csv')\n",
        "dfPaymentPage = pd.read_csv('payment_page_table.csv')\n",
        "UserTable = pd.read_csv('user_table.csv')"
      ]
    },
    {
      "cell_type": "code",
      "source": [
        "homeTab = dfHome.head()\n",
        "homeTab"
      ],
      "metadata": {
        "colab": {
          "base_uri": "https://localhost:8080/",
          "height": 206
        },
        "id": "FcL4jeQLDoAu",
        "outputId": "08ef2686-6e5b-4f89-df24-0e1aadc3eac0"
      },
      "execution_count": null,
      "outputs": [
        {
          "output_type": "execute_result",
          "data": {
            "text/plain": [
              "   user_id       page\n",
              "0   313593  home_page\n",
              "1   468315  home_page\n",
              "2   264005  home_page\n",
              "3   290784  home_page\n",
              "4   639104  home_page"
            ],
            "text/html": [
              "\n",
              "  <div id=\"df-5ac185e0-1ce9-4d79-a4e8-74d7433fdc23\">\n",
              "    <div class=\"colab-df-container\">\n",
              "      <div>\n",
              "<style scoped>\n",
              "    .dataframe tbody tr th:only-of-type {\n",
              "        vertical-align: middle;\n",
              "    }\n",
              "\n",
              "    .dataframe tbody tr th {\n",
              "        vertical-align: top;\n",
              "    }\n",
              "\n",
              "    .dataframe thead th {\n",
              "        text-align: right;\n",
              "    }\n",
              "</style>\n",
              "<table border=\"1\" class=\"dataframe\">\n",
              "  <thead>\n",
              "    <tr style=\"text-align: right;\">\n",
              "      <th></th>\n",
              "      <th>user_id</th>\n",
              "      <th>page</th>\n",
              "    </tr>\n",
              "  </thead>\n",
              "  <tbody>\n",
              "    <tr>\n",
              "      <th>0</th>\n",
              "      <td>313593</td>\n",
              "      <td>home_page</td>\n",
              "    </tr>\n",
              "    <tr>\n",
              "      <th>1</th>\n",
              "      <td>468315</td>\n",
              "      <td>home_page</td>\n",
              "    </tr>\n",
              "    <tr>\n",
              "      <th>2</th>\n",
              "      <td>264005</td>\n",
              "      <td>home_page</td>\n",
              "    </tr>\n",
              "    <tr>\n",
              "      <th>3</th>\n",
              "      <td>290784</td>\n",
              "      <td>home_page</td>\n",
              "    </tr>\n",
              "    <tr>\n",
              "      <th>4</th>\n",
              "      <td>639104</td>\n",
              "      <td>home_page</td>\n",
              "    </tr>\n",
              "  </tbody>\n",
              "</table>\n",
              "</div>\n",
              "      <button class=\"colab-df-convert\" onclick=\"convertToInteractive('df-5ac185e0-1ce9-4d79-a4e8-74d7433fdc23')\"\n",
              "              title=\"Convert this dataframe to an interactive table.\"\n",
              "              style=\"display:none;\">\n",
              "        \n",
              "  <svg xmlns=\"http://www.w3.org/2000/svg\" height=\"24px\"viewBox=\"0 0 24 24\"\n",
              "       width=\"24px\">\n",
              "    <path d=\"M0 0h24v24H0V0z\" fill=\"none\"/>\n",
              "    <path d=\"M18.56 5.44l.94 2.06.94-2.06 2.06-.94-2.06-.94-.94-2.06-.94 2.06-2.06.94zm-11 1L8.5 8.5l.94-2.06 2.06-.94-2.06-.94L8.5 2.5l-.94 2.06-2.06.94zm10 10l.94 2.06.94-2.06 2.06-.94-2.06-.94-.94-2.06-.94 2.06-2.06.94z\"/><path d=\"M17.41 7.96l-1.37-1.37c-.4-.4-.92-.59-1.43-.59-.52 0-1.04.2-1.43.59L10.3 9.45l-7.72 7.72c-.78.78-.78 2.05 0 2.83L4 21.41c.39.39.9.59 1.41.59.51 0 1.02-.2 1.41-.59l7.78-7.78 2.81-2.81c.8-.78.8-2.07 0-2.86zM5.41 20L4 18.59l7.72-7.72 1.47 1.35L5.41 20z\"/>\n",
              "  </svg>\n",
              "      </button>\n",
              "      \n",
              "  <style>\n",
              "    .colab-df-container {\n",
              "      display:flex;\n",
              "      flex-wrap:wrap;\n",
              "      gap: 12px;\n",
              "    }\n",
              "\n",
              "    .colab-df-convert {\n",
              "      background-color: #E8F0FE;\n",
              "      border: none;\n",
              "      border-radius: 50%;\n",
              "      cursor: pointer;\n",
              "      display: none;\n",
              "      fill: #1967D2;\n",
              "      height: 32px;\n",
              "      padding: 0 0 0 0;\n",
              "      width: 32px;\n",
              "    }\n",
              "\n",
              "    .colab-df-convert:hover {\n",
              "      background-color: #E2EBFA;\n",
              "      box-shadow: 0px 1px 2px rgba(60, 64, 67, 0.3), 0px 1px 3px 1px rgba(60, 64, 67, 0.15);\n",
              "      fill: #174EA6;\n",
              "    }\n",
              "\n",
              "    [theme=dark] .colab-df-convert {\n",
              "      background-color: #3B4455;\n",
              "      fill: #D2E3FC;\n",
              "    }\n",
              "\n",
              "    [theme=dark] .colab-df-convert:hover {\n",
              "      background-color: #434B5C;\n",
              "      box-shadow: 0px 1px 3px 1px rgba(0, 0, 0, 0.15);\n",
              "      filter: drop-shadow(0px 1px 2px rgba(0, 0, 0, 0.3));\n",
              "      fill: #FFFFFF;\n",
              "    }\n",
              "  </style>\n",
              "\n",
              "      <script>\n",
              "        const buttonEl =\n",
              "          document.querySelector('#df-5ac185e0-1ce9-4d79-a4e8-74d7433fdc23 button.colab-df-convert');\n",
              "        buttonEl.style.display =\n",
              "          google.colab.kernel.accessAllowed ? 'block' : 'none';\n",
              "\n",
              "        async function convertToInteractive(key) {\n",
              "          const element = document.querySelector('#df-5ac185e0-1ce9-4d79-a4e8-74d7433fdc23');\n",
              "          const dataTable =\n",
              "            await google.colab.kernel.invokeFunction('convertToInteractive',\n",
              "                                                     [key], {});\n",
              "          if (!dataTable) return;\n",
              "\n",
              "          const docLinkHtml = 'Like what you see? Visit the ' +\n",
              "            '<a target=\"_blank\" href=https://colab.research.google.com/notebooks/data_table.ipynb>data table notebook</a>'\n",
              "            + ' to learn more about interactive tables.';\n",
              "          element.innerHTML = '';\n",
              "          dataTable['output_type'] = 'display_data';\n",
              "          await google.colab.output.renderOutput(dataTable, element);\n",
              "          const docLink = document.createElement('div');\n",
              "          docLink.innerHTML = docLinkHtml;\n",
              "          element.appendChild(docLink);\n",
              "        }\n",
              "      </script>\n",
              "    </div>\n",
              "  </div>\n",
              "  "
            ]
          },
          "metadata": {},
          "execution_count": 36
        }
      ]
    },
    {
      "cell_type": "code",
      "source": [
        "searchTab = dfSearch.head()\n",
        "searchTab"
      ],
      "metadata": {
        "colab": {
          "base_uri": "https://localhost:8080/",
          "height": 206
        },
        "id": "4ZyVUwUrMqFZ",
        "outputId": "7b566827-687e-47d1-f5e9-cb8b3230bf30"
      },
      "execution_count": null,
      "outputs": [
        {
          "output_type": "execute_result",
          "data": {
            "text/plain": [
              "   user_id         page\n",
              "0    15866  search_page\n",
              "1   347058  search_page\n",
              "2   577020  search_page\n",
              "3   780347  search_page\n",
              "4   383739  search_page"
            ],
            "text/html": [
              "\n",
              "  <div id=\"df-5d15a58c-01e1-4f35-9ff7-08936f3f1953\">\n",
              "    <div class=\"colab-df-container\">\n",
              "      <div>\n",
              "<style scoped>\n",
              "    .dataframe tbody tr th:only-of-type {\n",
              "        vertical-align: middle;\n",
              "    }\n",
              "\n",
              "    .dataframe tbody tr th {\n",
              "        vertical-align: top;\n",
              "    }\n",
              "\n",
              "    .dataframe thead th {\n",
              "        text-align: right;\n",
              "    }\n",
              "</style>\n",
              "<table border=\"1\" class=\"dataframe\">\n",
              "  <thead>\n",
              "    <tr style=\"text-align: right;\">\n",
              "      <th></th>\n",
              "      <th>user_id</th>\n",
              "      <th>page</th>\n",
              "    </tr>\n",
              "  </thead>\n",
              "  <tbody>\n",
              "    <tr>\n",
              "      <th>0</th>\n",
              "      <td>15866</td>\n",
              "      <td>search_page</td>\n",
              "    </tr>\n",
              "    <tr>\n",
              "      <th>1</th>\n",
              "      <td>347058</td>\n",
              "      <td>search_page</td>\n",
              "    </tr>\n",
              "    <tr>\n",
              "      <th>2</th>\n",
              "      <td>577020</td>\n",
              "      <td>search_page</td>\n",
              "    </tr>\n",
              "    <tr>\n",
              "      <th>3</th>\n",
              "      <td>780347</td>\n",
              "      <td>search_page</td>\n",
              "    </tr>\n",
              "    <tr>\n",
              "      <th>4</th>\n",
              "      <td>383739</td>\n",
              "      <td>search_page</td>\n",
              "    </tr>\n",
              "  </tbody>\n",
              "</table>\n",
              "</div>\n",
              "      <button class=\"colab-df-convert\" onclick=\"convertToInteractive('df-5d15a58c-01e1-4f35-9ff7-08936f3f1953')\"\n",
              "              title=\"Convert this dataframe to an interactive table.\"\n",
              "              style=\"display:none;\">\n",
              "        \n",
              "  <svg xmlns=\"http://www.w3.org/2000/svg\" height=\"24px\"viewBox=\"0 0 24 24\"\n",
              "       width=\"24px\">\n",
              "    <path d=\"M0 0h24v24H0V0z\" fill=\"none\"/>\n",
              "    <path d=\"M18.56 5.44l.94 2.06.94-2.06 2.06-.94-2.06-.94-.94-2.06-.94 2.06-2.06.94zm-11 1L8.5 8.5l.94-2.06 2.06-.94-2.06-.94L8.5 2.5l-.94 2.06-2.06.94zm10 10l.94 2.06.94-2.06 2.06-.94-2.06-.94-.94-2.06-.94 2.06-2.06.94z\"/><path d=\"M17.41 7.96l-1.37-1.37c-.4-.4-.92-.59-1.43-.59-.52 0-1.04.2-1.43.59L10.3 9.45l-7.72 7.72c-.78.78-.78 2.05 0 2.83L4 21.41c.39.39.9.59 1.41.59.51 0 1.02-.2 1.41-.59l7.78-7.78 2.81-2.81c.8-.78.8-2.07 0-2.86zM5.41 20L4 18.59l7.72-7.72 1.47 1.35L5.41 20z\"/>\n",
              "  </svg>\n",
              "      </button>\n",
              "      \n",
              "  <style>\n",
              "    .colab-df-container {\n",
              "      display:flex;\n",
              "      flex-wrap:wrap;\n",
              "      gap: 12px;\n",
              "    }\n",
              "\n",
              "    .colab-df-convert {\n",
              "      background-color: #E8F0FE;\n",
              "      border: none;\n",
              "      border-radius: 50%;\n",
              "      cursor: pointer;\n",
              "      display: none;\n",
              "      fill: #1967D2;\n",
              "      height: 32px;\n",
              "      padding: 0 0 0 0;\n",
              "      width: 32px;\n",
              "    }\n",
              "\n",
              "    .colab-df-convert:hover {\n",
              "      background-color: #E2EBFA;\n",
              "      box-shadow: 0px 1px 2px rgba(60, 64, 67, 0.3), 0px 1px 3px 1px rgba(60, 64, 67, 0.15);\n",
              "      fill: #174EA6;\n",
              "    }\n",
              "\n",
              "    [theme=dark] .colab-df-convert {\n",
              "      background-color: #3B4455;\n",
              "      fill: #D2E3FC;\n",
              "    }\n",
              "\n",
              "    [theme=dark] .colab-df-convert:hover {\n",
              "      background-color: #434B5C;\n",
              "      box-shadow: 0px 1px 3px 1px rgba(0, 0, 0, 0.15);\n",
              "      filter: drop-shadow(0px 1px 2px rgba(0, 0, 0, 0.3));\n",
              "      fill: #FFFFFF;\n",
              "    }\n",
              "  </style>\n",
              "\n",
              "      <script>\n",
              "        const buttonEl =\n",
              "          document.querySelector('#df-5d15a58c-01e1-4f35-9ff7-08936f3f1953 button.colab-df-convert');\n",
              "        buttonEl.style.display =\n",
              "          google.colab.kernel.accessAllowed ? 'block' : 'none';\n",
              "\n",
              "        async function convertToInteractive(key) {\n",
              "          const element = document.querySelector('#df-5d15a58c-01e1-4f35-9ff7-08936f3f1953');\n",
              "          const dataTable =\n",
              "            await google.colab.kernel.invokeFunction('convertToInteractive',\n",
              "                                                     [key], {});\n",
              "          if (!dataTable) return;\n",
              "\n",
              "          const docLinkHtml = 'Like what you see? Visit the ' +\n",
              "            '<a target=\"_blank\" href=https://colab.research.google.com/notebooks/data_table.ipynb>data table notebook</a>'\n",
              "            + ' to learn more about interactive tables.';\n",
              "          element.innerHTML = '';\n",
              "          dataTable['output_type'] = 'display_data';\n",
              "          await google.colab.output.renderOutput(dataTable, element);\n",
              "          const docLink = document.createElement('div');\n",
              "          docLink.innerHTML = docLinkHtml;\n",
              "          element.appendChild(docLink);\n",
              "        }\n",
              "      </script>\n",
              "    </div>\n",
              "  </div>\n",
              "  "
            ]
          },
          "metadata": {},
          "execution_count": 37
        }
      ]
    },
    {
      "cell_type": "markdown",
      "source": [
        "# **Data cleaning**"
      ],
      "metadata": {
        "id": "6E9vnW96UA5O"
      }
    },
    {
      "cell_type": "code",
      "source": [
        "homeNull = dfHome.isnull()\n",
        "print(homeNull)\n",
        "print(\"Non null User_id: \" + str(homeNull['user_id'].count()))\n",
        "print(\"Non null Home_Page: \" + str(homeNull['page'].count()))"
      ],
      "metadata": {
        "colab": {
          "base_uri": "https://localhost:8080/"
        },
        "id": "scRc4r1gNOoY",
        "outputId": "122522a0-556f-44d5-b116-d8dd2f75550e"
      },
      "execution_count": null,
      "outputs": [
        {
          "output_type": "stream",
          "name": "stdout",
          "text": [
            "       user_id   page\n",
            "0        False  False\n",
            "1        False  False\n",
            "2        False  False\n",
            "3        False  False\n",
            "4        False  False\n",
            "...        ...    ...\n",
            "90395    False  False\n",
            "90396    False  False\n",
            "90397    False  False\n",
            "90398    False  False\n",
            "90399    False  False\n",
            "\n",
            "[90400 rows x 2 columns]\n",
            "Non null User_id: 90400\n",
            "Non null Home_Page: 90400\n"
          ]
        }
      ]
    },
    {
      "cell_type": "code",
      "source": [
        "searchNull = dfSearch.isnull()\n",
        "print(searchNull)\n",
        "print(\"Non null User_id: \" + str(searchNull['user_id'].count()))\n",
        "print(\"Non null Search_Page: \" + str(searchNull['page'].count()))"
      ],
      "metadata": {
        "colab": {
          "base_uri": "https://localhost:8080/"
        },
        "id": "hx__rfskPPQE",
        "outputId": "7f7ea5d9-271f-4614-9b17-fe3a898981f5"
      },
      "execution_count": null,
      "outputs": [
        {
          "output_type": "stream",
          "name": "stdout",
          "text": [
            "       user_id   page\n",
            "0        False  False\n",
            "1        False  False\n",
            "2        False  False\n",
            "3        False  False\n",
            "4        False  False\n",
            "...        ...    ...\n",
            "45195    False  False\n",
            "45196    False  False\n",
            "45197    False  False\n",
            "45198    False  False\n",
            "45199    False  False\n",
            "\n",
            "[45200 rows x 2 columns]\n",
            "Non null User_id: 45200\n",
            "Non null Search_Page: 45200\n"
          ]
        }
      ]
    },
    {
      "cell_type": "markdown",
      "source": [
        "# **Data transform**"
      ],
      "metadata": {
        "id": "cHHy3H4MaI6v"
      }
    },
    {
      "cell_type": "markdown",
      "source": [
        "Let's rename the column \"page\" for each table"
      ],
      "metadata": {
        "id": "-gwAQnvXW9ww"
      }
    },
    {
      "cell_type": "code",
      "source": [
        "dfHome = dfHome.rename(columns={'page':'First page'})\n",
        "dfSearch = dfSearch.rename(columns={'page':'Second page'})\n",
        "dfPaymentPage = dfPaymentPage.rename(columns={'page':'Third page'})\n",
        "dfPaymentConf = dfPaymentConf.rename(columns={'page':'Fourth page'})"
      ],
      "metadata": {
        "id": "yLKBPNQoW89q"
      },
      "execution_count": null,
      "outputs": []
    },
    {
      "cell_type": "markdown",
      "source": [
        "Let's merge all the table into one table"
      ],
      "metadata": {
        "id": "Eg-vDNAoetL_"
      }
    },
    {
      "cell_type": "code",
      "source": [
        "userData = UserTable.merge(dfHome, how ='outer',on='user_id').merge(\n",
        "        dfSearch, how ='outer', on='user_id').merge(dfPaymentPage, how ='outer', on='user_id').merge(\n",
        "        dfPaymentConf, how ='outer', on='user_id')\n",
        "\n",
        "userData"
      ],
      "metadata": {
        "colab": {
          "base_uri": "https://localhost:8080/",
          "height": 424
        },
        "id": "3XGTcMx5aRMR",
        "outputId": "7798e154-ff52-47bb-8216-19bd5578d77e"
      },
      "execution_count": null,
      "outputs": [
        {
          "output_type": "execute_result",
          "data": {
            "text/plain": [
              "       user_id        date   device     sex First page  Second page  \\\n",
              "0       450007  2015-02-28  Desktop  Female  home_page          NaN   \n",
              "1       756838  2015-01-13  Desktop    Male  home_page          NaN   \n",
              "2       568983  2015-04-09  Desktop    Male  home_page  search_page   \n",
              "3       190794  2015-02-18  Desktop  Female  home_page  search_page   \n",
              "4       537909  2015-01-15  Desktop    Male  home_page          NaN   \n",
              "...        ...         ...      ...     ...        ...          ...   \n",
              "90395   307667  2015-03-30  Desktop  Female  home_page          NaN   \n",
              "90396   642989  2015-02-08  Desktop  Female  home_page  search_page   \n",
              "90397   659645  2015-04-13  Desktop    Male  home_page  search_page   \n",
              "90398   359779  2015-03-23  Desktop    Male  home_page          NaN   \n",
              "90399   438929  2015-03-26   Mobile  Female  home_page          NaN   \n",
              "\n",
              "      Third page Fourth page  \n",
              "0            NaN         NaN  \n",
              "1            NaN         NaN  \n",
              "2            NaN         NaN  \n",
              "3            NaN         NaN  \n",
              "4            NaN         NaN  \n",
              "...          ...         ...  \n",
              "90395        NaN         NaN  \n",
              "90396        NaN         NaN  \n",
              "90397        NaN         NaN  \n",
              "90398        NaN         NaN  \n",
              "90399        NaN         NaN  \n",
              "\n",
              "[90400 rows x 8 columns]"
            ],
            "text/html": [
              "\n",
              "  <div id=\"df-043a25fa-e11e-4c41-b060-b455bc4fbf36\">\n",
              "    <div class=\"colab-df-container\">\n",
              "      <div>\n",
              "<style scoped>\n",
              "    .dataframe tbody tr th:only-of-type {\n",
              "        vertical-align: middle;\n",
              "    }\n",
              "\n",
              "    .dataframe tbody tr th {\n",
              "        vertical-align: top;\n",
              "    }\n",
              "\n",
              "    .dataframe thead th {\n",
              "        text-align: right;\n",
              "    }\n",
              "</style>\n",
              "<table border=\"1\" class=\"dataframe\">\n",
              "  <thead>\n",
              "    <tr style=\"text-align: right;\">\n",
              "      <th></th>\n",
              "      <th>user_id</th>\n",
              "      <th>date</th>\n",
              "      <th>device</th>\n",
              "      <th>sex</th>\n",
              "      <th>First page</th>\n",
              "      <th>Second page</th>\n",
              "      <th>Third page</th>\n",
              "      <th>Fourth page</th>\n",
              "    </tr>\n",
              "  </thead>\n",
              "  <tbody>\n",
              "    <tr>\n",
              "      <th>0</th>\n",
              "      <td>450007</td>\n",
              "      <td>2015-02-28</td>\n",
              "      <td>Desktop</td>\n",
              "      <td>Female</td>\n",
              "      <td>home_page</td>\n",
              "      <td>NaN</td>\n",
              "      <td>NaN</td>\n",
              "      <td>NaN</td>\n",
              "    </tr>\n",
              "    <tr>\n",
              "      <th>1</th>\n",
              "      <td>756838</td>\n",
              "      <td>2015-01-13</td>\n",
              "      <td>Desktop</td>\n",
              "      <td>Male</td>\n",
              "      <td>home_page</td>\n",
              "      <td>NaN</td>\n",
              "      <td>NaN</td>\n",
              "      <td>NaN</td>\n",
              "    </tr>\n",
              "    <tr>\n",
              "      <th>2</th>\n",
              "      <td>568983</td>\n",
              "      <td>2015-04-09</td>\n",
              "      <td>Desktop</td>\n",
              "      <td>Male</td>\n",
              "      <td>home_page</td>\n",
              "      <td>search_page</td>\n",
              "      <td>NaN</td>\n",
              "      <td>NaN</td>\n",
              "    </tr>\n",
              "    <tr>\n",
              "      <th>3</th>\n",
              "      <td>190794</td>\n",
              "      <td>2015-02-18</td>\n",
              "      <td>Desktop</td>\n",
              "      <td>Female</td>\n",
              "      <td>home_page</td>\n",
              "      <td>search_page</td>\n",
              "      <td>NaN</td>\n",
              "      <td>NaN</td>\n",
              "    </tr>\n",
              "    <tr>\n",
              "      <th>4</th>\n",
              "      <td>537909</td>\n",
              "      <td>2015-01-15</td>\n",
              "      <td>Desktop</td>\n",
              "      <td>Male</td>\n",
              "      <td>home_page</td>\n",
              "      <td>NaN</td>\n",
              "      <td>NaN</td>\n",
              "      <td>NaN</td>\n",
              "    </tr>\n",
              "    <tr>\n",
              "      <th>...</th>\n",
              "      <td>...</td>\n",
              "      <td>...</td>\n",
              "      <td>...</td>\n",
              "      <td>...</td>\n",
              "      <td>...</td>\n",
              "      <td>...</td>\n",
              "      <td>...</td>\n",
              "      <td>...</td>\n",
              "    </tr>\n",
              "    <tr>\n",
              "      <th>90395</th>\n",
              "      <td>307667</td>\n",
              "      <td>2015-03-30</td>\n",
              "      <td>Desktop</td>\n",
              "      <td>Female</td>\n",
              "      <td>home_page</td>\n",
              "      <td>NaN</td>\n",
              "      <td>NaN</td>\n",
              "      <td>NaN</td>\n",
              "    </tr>\n",
              "    <tr>\n",
              "      <th>90396</th>\n",
              "      <td>642989</td>\n",
              "      <td>2015-02-08</td>\n",
              "      <td>Desktop</td>\n",
              "      <td>Female</td>\n",
              "      <td>home_page</td>\n",
              "      <td>search_page</td>\n",
              "      <td>NaN</td>\n",
              "      <td>NaN</td>\n",
              "    </tr>\n",
              "    <tr>\n",
              "      <th>90397</th>\n",
              "      <td>659645</td>\n",
              "      <td>2015-04-13</td>\n",
              "      <td>Desktop</td>\n",
              "      <td>Male</td>\n",
              "      <td>home_page</td>\n",
              "      <td>search_page</td>\n",
              "      <td>NaN</td>\n",
              "      <td>NaN</td>\n",
              "    </tr>\n",
              "    <tr>\n",
              "      <th>90398</th>\n",
              "      <td>359779</td>\n",
              "      <td>2015-03-23</td>\n",
              "      <td>Desktop</td>\n",
              "      <td>Male</td>\n",
              "      <td>home_page</td>\n",
              "      <td>NaN</td>\n",
              "      <td>NaN</td>\n",
              "      <td>NaN</td>\n",
              "    </tr>\n",
              "    <tr>\n",
              "      <th>90399</th>\n",
              "      <td>438929</td>\n",
              "      <td>2015-03-26</td>\n",
              "      <td>Mobile</td>\n",
              "      <td>Female</td>\n",
              "      <td>home_page</td>\n",
              "      <td>NaN</td>\n",
              "      <td>NaN</td>\n",
              "      <td>NaN</td>\n",
              "    </tr>\n",
              "  </tbody>\n",
              "</table>\n",
              "<p>90400 rows × 8 columns</p>\n",
              "</div>\n",
              "      <button class=\"colab-df-convert\" onclick=\"convertToInteractive('df-043a25fa-e11e-4c41-b060-b455bc4fbf36')\"\n",
              "              title=\"Convert this dataframe to an interactive table.\"\n",
              "              style=\"display:none;\">\n",
              "        \n",
              "  <svg xmlns=\"http://www.w3.org/2000/svg\" height=\"24px\"viewBox=\"0 0 24 24\"\n",
              "       width=\"24px\">\n",
              "    <path d=\"M0 0h24v24H0V0z\" fill=\"none\"/>\n",
              "    <path d=\"M18.56 5.44l.94 2.06.94-2.06 2.06-.94-2.06-.94-.94-2.06-.94 2.06-2.06.94zm-11 1L8.5 8.5l.94-2.06 2.06-.94-2.06-.94L8.5 2.5l-.94 2.06-2.06.94zm10 10l.94 2.06.94-2.06 2.06-.94-2.06-.94-.94-2.06-.94 2.06-2.06.94z\"/><path d=\"M17.41 7.96l-1.37-1.37c-.4-.4-.92-.59-1.43-.59-.52 0-1.04.2-1.43.59L10.3 9.45l-7.72 7.72c-.78.78-.78 2.05 0 2.83L4 21.41c.39.39.9.59 1.41.59.51 0 1.02-.2 1.41-.59l7.78-7.78 2.81-2.81c.8-.78.8-2.07 0-2.86zM5.41 20L4 18.59l7.72-7.72 1.47 1.35L5.41 20z\"/>\n",
              "  </svg>\n",
              "      </button>\n",
              "      \n",
              "  <style>\n",
              "    .colab-df-container {\n",
              "      display:flex;\n",
              "      flex-wrap:wrap;\n",
              "      gap: 12px;\n",
              "    }\n",
              "\n",
              "    .colab-df-convert {\n",
              "      background-color: #E8F0FE;\n",
              "      border: none;\n",
              "      border-radius: 50%;\n",
              "      cursor: pointer;\n",
              "      display: none;\n",
              "      fill: #1967D2;\n",
              "      height: 32px;\n",
              "      padding: 0 0 0 0;\n",
              "      width: 32px;\n",
              "    }\n",
              "\n",
              "    .colab-df-convert:hover {\n",
              "      background-color: #E2EBFA;\n",
              "      box-shadow: 0px 1px 2px rgba(60, 64, 67, 0.3), 0px 1px 3px 1px rgba(60, 64, 67, 0.15);\n",
              "      fill: #174EA6;\n",
              "    }\n",
              "\n",
              "    [theme=dark] .colab-df-convert {\n",
              "      background-color: #3B4455;\n",
              "      fill: #D2E3FC;\n",
              "    }\n",
              "\n",
              "    [theme=dark] .colab-df-convert:hover {\n",
              "      background-color: #434B5C;\n",
              "      box-shadow: 0px 1px 3px 1px rgba(0, 0, 0, 0.15);\n",
              "      filter: drop-shadow(0px 1px 2px rgba(0, 0, 0, 0.3));\n",
              "      fill: #FFFFFF;\n",
              "    }\n",
              "  </style>\n",
              "\n",
              "      <script>\n",
              "        const buttonEl =\n",
              "          document.querySelector('#df-043a25fa-e11e-4c41-b060-b455bc4fbf36 button.colab-df-convert');\n",
              "        buttonEl.style.display =\n",
              "          google.colab.kernel.accessAllowed ? 'block' : 'none';\n",
              "\n",
              "        async function convertToInteractive(key) {\n",
              "          const element = document.querySelector('#df-043a25fa-e11e-4c41-b060-b455bc4fbf36');\n",
              "          const dataTable =\n",
              "            await google.colab.kernel.invokeFunction('convertToInteractive',\n",
              "                                                     [key], {});\n",
              "          if (!dataTable) return;\n",
              "\n",
              "          const docLinkHtml = 'Like what you see? Visit the ' +\n",
              "            '<a target=\"_blank\" href=https://colab.research.google.com/notebooks/data_table.ipynb>data table notebook</a>'\n",
              "            + ' to learn more about interactive tables.';\n",
              "          element.innerHTML = '';\n",
              "          dataTable['output_type'] = 'display_data';\n",
              "          await google.colab.output.renderOutput(dataTable, element);\n",
              "          const docLink = document.createElement('div');\n",
              "          docLink.innerHTML = docLinkHtml;\n",
              "          element.appendChild(docLink);\n",
              "        }\n",
              "      </script>\n",
              "    </div>\n",
              "  </div>\n",
              "  "
            ]
          },
          "metadata": {},
          "execution_count": 41
        }
      ]
    },
    {
      "cell_type": "markdown",
      "source": [
        "# **Data analysis**"
      ],
      "metadata": {
        "id": "r-T0CKd5ElS4"
      }
    },
    {
      "cell_type": "markdown",
      "source": [
        "Let's see the user count for each pages in the funnel."
      ],
      "metadata": {
        "id": "YAihcBdwwBgv"
      }
    },
    {
      "cell_type": "code",
      "source": [
        "dataTable = pd.DataFrame([['Phases', 'Users'],\n",
        "              ['User_Count', UserTable['user_id'].count()],\n",
        "               ['Home_Page', dfHome['user_id'].count()],\n",
        "               ['Search_Page', dfSearch['user_id'].count()],\n",
        "               ['Payment_Page', dfPaymentPage['user_id'].count()],\n",
        "               ['Payment_Confimation', dfPaymentConf['user_id'].count()]])\n",
        "               \n",
        "dataTable"
      ],
      "metadata": {
        "colab": {
          "base_uri": "https://localhost:8080/",
          "height": 238
        },
        "id": "jTxa_i1MD78V",
        "outputId": "6484e66e-c735-47f1-d5bb-11548f3cdebe"
      },
      "execution_count": null,
      "outputs": [
        {
          "output_type": "execute_result",
          "data": {
            "text/plain": [
              "                     0      1\n",
              "0               Phases  Users\n",
              "1           User_Count  90400\n",
              "2            Home_Page  90400\n",
              "3          Search_Page  45200\n",
              "4         Payment_Page   6030\n",
              "5  Payment_Confimation    452"
            ],
            "text/html": [
              "\n",
              "  <div id=\"df-f535a5e9-3acb-4e79-bea1-3bc5e43dc287\">\n",
              "    <div class=\"colab-df-container\">\n",
              "      <div>\n",
              "<style scoped>\n",
              "    .dataframe tbody tr th:only-of-type {\n",
              "        vertical-align: middle;\n",
              "    }\n",
              "\n",
              "    .dataframe tbody tr th {\n",
              "        vertical-align: top;\n",
              "    }\n",
              "\n",
              "    .dataframe thead th {\n",
              "        text-align: right;\n",
              "    }\n",
              "</style>\n",
              "<table border=\"1\" class=\"dataframe\">\n",
              "  <thead>\n",
              "    <tr style=\"text-align: right;\">\n",
              "      <th></th>\n",
              "      <th>0</th>\n",
              "      <th>1</th>\n",
              "    </tr>\n",
              "  </thead>\n",
              "  <tbody>\n",
              "    <tr>\n",
              "      <th>0</th>\n",
              "      <td>Phases</td>\n",
              "      <td>Users</td>\n",
              "    </tr>\n",
              "    <tr>\n",
              "      <th>1</th>\n",
              "      <td>User_Count</td>\n",
              "      <td>90400</td>\n",
              "    </tr>\n",
              "    <tr>\n",
              "      <th>2</th>\n",
              "      <td>Home_Page</td>\n",
              "      <td>90400</td>\n",
              "    </tr>\n",
              "    <tr>\n",
              "      <th>3</th>\n",
              "      <td>Search_Page</td>\n",
              "      <td>45200</td>\n",
              "    </tr>\n",
              "    <tr>\n",
              "      <th>4</th>\n",
              "      <td>Payment_Page</td>\n",
              "      <td>6030</td>\n",
              "    </tr>\n",
              "    <tr>\n",
              "      <th>5</th>\n",
              "      <td>Payment_Confimation</td>\n",
              "      <td>452</td>\n",
              "    </tr>\n",
              "  </tbody>\n",
              "</table>\n",
              "</div>\n",
              "      <button class=\"colab-df-convert\" onclick=\"convertToInteractive('df-f535a5e9-3acb-4e79-bea1-3bc5e43dc287')\"\n",
              "              title=\"Convert this dataframe to an interactive table.\"\n",
              "              style=\"display:none;\">\n",
              "        \n",
              "  <svg xmlns=\"http://www.w3.org/2000/svg\" height=\"24px\"viewBox=\"0 0 24 24\"\n",
              "       width=\"24px\">\n",
              "    <path d=\"M0 0h24v24H0V0z\" fill=\"none\"/>\n",
              "    <path d=\"M18.56 5.44l.94 2.06.94-2.06 2.06-.94-2.06-.94-.94-2.06-.94 2.06-2.06.94zm-11 1L8.5 8.5l.94-2.06 2.06-.94-2.06-.94L8.5 2.5l-.94 2.06-2.06.94zm10 10l.94 2.06.94-2.06 2.06-.94-2.06-.94-.94-2.06-.94 2.06-2.06.94z\"/><path d=\"M17.41 7.96l-1.37-1.37c-.4-.4-.92-.59-1.43-.59-.52 0-1.04.2-1.43.59L10.3 9.45l-7.72 7.72c-.78.78-.78 2.05 0 2.83L4 21.41c.39.39.9.59 1.41.59.51 0 1.02-.2 1.41-.59l7.78-7.78 2.81-2.81c.8-.78.8-2.07 0-2.86zM5.41 20L4 18.59l7.72-7.72 1.47 1.35L5.41 20z\"/>\n",
              "  </svg>\n",
              "      </button>\n",
              "      \n",
              "  <style>\n",
              "    .colab-df-container {\n",
              "      display:flex;\n",
              "      flex-wrap:wrap;\n",
              "      gap: 12px;\n",
              "    }\n",
              "\n",
              "    .colab-df-convert {\n",
              "      background-color: #E8F0FE;\n",
              "      border: none;\n",
              "      border-radius: 50%;\n",
              "      cursor: pointer;\n",
              "      display: none;\n",
              "      fill: #1967D2;\n",
              "      height: 32px;\n",
              "      padding: 0 0 0 0;\n",
              "      width: 32px;\n",
              "    }\n",
              "\n",
              "    .colab-df-convert:hover {\n",
              "      background-color: #E2EBFA;\n",
              "      box-shadow: 0px 1px 2px rgba(60, 64, 67, 0.3), 0px 1px 3px 1px rgba(60, 64, 67, 0.15);\n",
              "      fill: #174EA6;\n",
              "    }\n",
              "\n",
              "    [theme=dark] .colab-df-convert {\n",
              "      background-color: #3B4455;\n",
              "      fill: #D2E3FC;\n",
              "    }\n",
              "\n",
              "    [theme=dark] .colab-df-convert:hover {\n",
              "      background-color: #434B5C;\n",
              "      box-shadow: 0px 1px 3px 1px rgba(0, 0, 0, 0.15);\n",
              "      filter: drop-shadow(0px 1px 2px rgba(0, 0, 0, 0.3));\n",
              "      fill: #FFFFFF;\n",
              "    }\n",
              "  </style>\n",
              "\n",
              "      <script>\n",
              "        const buttonEl =\n",
              "          document.querySelector('#df-f535a5e9-3acb-4e79-bea1-3bc5e43dc287 button.colab-df-convert');\n",
              "        buttonEl.style.display =\n",
              "          google.colab.kernel.accessAllowed ? 'block' : 'none';\n",
              "\n",
              "        async function convertToInteractive(key) {\n",
              "          const element = document.querySelector('#df-f535a5e9-3acb-4e79-bea1-3bc5e43dc287');\n",
              "          const dataTable =\n",
              "            await google.colab.kernel.invokeFunction('convertToInteractive',\n",
              "                                                     [key], {});\n",
              "          if (!dataTable) return;\n",
              "\n",
              "          const docLinkHtml = 'Like what you see? Visit the ' +\n",
              "            '<a target=\"_blank\" href=https://colab.research.google.com/notebooks/data_table.ipynb>data table notebook</a>'\n",
              "            + ' to learn more about interactive tables.';\n",
              "          element.innerHTML = '';\n",
              "          dataTable['output_type'] = 'display_data';\n",
              "          await google.colab.output.renderOutput(dataTable, element);\n",
              "          const docLink = document.createElement('div');\n",
              "          docLink.innerHTML = docLinkHtml;\n",
              "          element.appendChild(docLink);\n",
              "        }\n",
              "      </script>\n",
              "    </div>\n",
              "  </div>\n",
              "  "
            ]
          },
          "metadata": {},
          "execution_count": 42
        }
      ]
    },
    {
      "cell_type": "markdown",
      "source": [
        "We can see that there is a massive decrease in the user's count from the Search Page to the Payment Page. Specially from the Payment page to the Payment confirmation page, that means a huge loss for the company or the user experince can be at fault."
      ],
      "metadata": {
        "id": "SOiU5_zcylZY"
      }
    },
    {
      "cell_type": "markdown",
      "source": [
        "We are going to split our userData table into genre."
      ],
      "metadata": {
        "id": "Yih4suI3gVxa"
      }
    },
    {
      "cell_type": "code",
      "source": [
        "First_Page_Male = (userData['sex'] == 'Male') & (userData['First page'] == 'home_page')\n",
        "First_Page_Female = (userData['sex'] == 'Female') & (userData['First page'] == 'home_page')\n",
        "\n",
        "Second_Page_Male = (userData['sex'] == 'Male') & (userData['Second page'] == 'search_page')\n",
        "Second_Page_Female = (userData['sex'] == 'Female') & (userData['Second page'] == 'search_page')\n",
        "\n",
        "Third_Page_Male = (userData['sex'] == 'Male') & (userData['Third page'] == 'payment_page')\n",
        "Third_Page_Female = (userData['sex'] == 'Female') & (userData['Third page'] == 'payment_page')\n",
        "\n",
        "Fourth_Page_Male = (userData['sex'] == 'Male') & (userData['Fourth page'] == 'payment_confirmation_page')\n",
        "Fourth_Page_Female = (userData['sex'] == 'Female') & (userData['Fourth page'] == 'payment_confirmation_page')\n",
        "\n",
        "dataTable_Genre = pd.DataFrame([['Phases', 'Men', 'Women', 'Total'],\n",
        "               ['Home', First_Page_Male.sum(), First_Page_Female.sum(), (First_Page_Male.sum() + First_Page_Female.sum())],\n",
        "               ['Search', Second_Page_Male.sum(), Second_Page_Female.sum(), (Second_Page_Male.sum() + Second_Page_Female.sum())],\n",
        "               ['Payment', Third_Page_Male.sum(), Third_Page_Female.sum(), (Third_Page_Male.sum() + Third_Page_Female.sum())],\n",
        "               ['Confirmation', Fourth_Page_Male.sum(), Fourth_Page_Female.sum(), (Fourth_Page_Male.sum() + Fourth_Page_Female.sum())]])\n",
        "print(dataTable_Genre.dtypes)\n",
        "dataTable_Genre"
      ],
      "metadata": {
        "colab": {
          "base_uri": "https://localhost:8080/",
          "height": 293
        },
        "id": "ho94jcaKg2qb",
        "outputId": "3d0c3a66-32bb-4aef-9401-17af9b3654c5"
      },
      "execution_count": null,
      "outputs": [
        {
          "output_type": "stream",
          "name": "stdout",
          "text": [
            "0    object\n",
            "1    object\n",
            "2    object\n",
            "3    object\n",
            "dtype: object\n"
          ]
        },
        {
          "output_type": "execute_result",
          "data": {
            "text/plain": [
              "              0      1      2      3\n",
              "0        Phases    Men  Women  Total\n",
              "1          Home  45325  45075  90400\n",
              "2        Search  22524  22676  45200\n",
              "3       Payment   2930   3100   6030\n",
              "4  Confirmation    211    241    452"
            ],
            "text/html": [
              "\n",
              "  <div id=\"df-23bd7fa1-8b91-4671-a7d4-c28cfacaffb3\">\n",
              "    <div class=\"colab-df-container\">\n",
              "      <div>\n",
              "<style scoped>\n",
              "    .dataframe tbody tr th:only-of-type {\n",
              "        vertical-align: middle;\n",
              "    }\n",
              "\n",
              "    .dataframe tbody tr th {\n",
              "        vertical-align: top;\n",
              "    }\n",
              "\n",
              "    .dataframe thead th {\n",
              "        text-align: right;\n",
              "    }\n",
              "</style>\n",
              "<table border=\"1\" class=\"dataframe\">\n",
              "  <thead>\n",
              "    <tr style=\"text-align: right;\">\n",
              "      <th></th>\n",
              "      <th>0</th>\n",
              "      <th>1</th>\n",
              "      <th>2</th>\n",
              "      <th>3</th>\n",
              "    </tr>\n",
              "  </thead>\n",
              "  <tbody>\n",
              "    <tr>\n",
              "      <th>0</th>\n",
              "      <td>Phases</td>\n",
              "      <td>Men</td>\n",
              "      <td>Women</td>\n",
              "      <td>Total</td>\n",
              "    </tr>\n",
              "    <tr>\n",
              "      <th>1</th>\n",
              "      <td>Home</td>\n",
              "      <td>45325</td>\n",
              "      <td>45075</td>\n",
              "      <td>90400</td>\n",
              "    </tr>\n",
              "    <tr>\n",
              "      <th>2</th>\n",
              "      <td>Search</td>\n",
              "      <td>22524</td>\n",
              "      <td>22676</td>\n",
              "      <td>45200</td>\n",
              "    </tr>\n",
              "    <tr>\n",
              "      <th>3</th>\n",
              "      <td>Payment</td>\n",
              "      <td>2930</td>\n",
              "      <td>3100</td>\n",
              "      <td>6030</td>\n",
              "    </tr>\n",
              "    <tr>\n",
              "      <th>4</th>\n",
              "      <td>Confirmation</td>\n",
              "      <td>211</td>\n",
              "      <td>241</td>\n",
              "      <td>452</td>\n",
              "    </tr>\n",
              "  </tbody>\n",
              "</table>\n",
              "</div>\n",
              "      <button class=\"colab-df-convert\" onclick=\"convertToInteractive('df-23bd7fa1-8b91-4671-a7d4-c28cfacaffb3')\"\n",
              "              title=\"Convert this dataframe to an interactive table.\"\n",
              "              style=\"display:none;\">\n",
              "        \n",
              "  <svg xmlns=\"http://www.w3.org/2000/svg\" height=\"24px\"viewBox=\"0 0 24 24\"\n",
              "       width=\"24px\">\n",
              "    <path d=\"M0 0h24v24H0V0z\" fill=\"none\"/>\n",
              "    <path d=\"M18.56 5.44l.94 2.06.94-2.06 2.06-.94-2.06-.94-.94-2.06-.94 2.06-2.06.94zm-11 1L8.5 8.5l.94-2.06 2.06-.94-2.06-.94L8.5 2.5l-.94 2.06-2.06.94zm10 10l.94 2.06.94-2.06 2.06-.94-2.06-.94-.94-2.06-.94 2.06-2.06.94z\"/><path d=\"M17.41 7.96l-1.37-1.37c-.4-.4-.92-.59-1.43-.59-.52 0-1.04.2-1.43.59L10.3 9.45l-7.72 7.72c-.78.78-.78 2.05 0 2.83L4 21.41c.39.39.9.59 1.41.59.51 0 1.02-.2 1.41-.59l7.78-7.78 2.81-2.81c.8-.78.8-2.07 0-2.86zM5.41 20L4 18.59l7.72-7.72 1.47 1.35L5.41 20z\"/>\n",
              "  </svg>\n",
              "      </button>\n",
              "      \n",
              "  <style>\n",
              "    .colab-df-container {\n",
              "      display:flex;\n",
              "      flex-wrap:wrap;\n",
              "      gap: 12px;\n",
              "    }\n",
              "\n",
              "    .colab-df-convert {\n",
              "      background-color: #E8F0FE;\n",
              "      border: none;\n",
              "      border-radius: 50%;\n",
              "      cursor: pointer;\n",
              "      display: none;\n",
              "      fill: #1967D2;\n",
              "      height: 32px;\n",
              "      padding: 0 0 0 0;\n",
              "      width: 32px;\n",
              "    }\n",
              "\n",
              "    .colab-df-convert:hover {\n",
              "      background-color: #E2EBFA;\n",
              "      box-shadow: 0px 1px 2px rgba(60, 64, 67, 0.3), 0px 1px 3px 1px rgba(60, 64, 67, 0.15);\n",
              "      fill: #174EA6;\n",
              "    }\n",
              "\n",
              "    [theme=dark] .colab-df-convert {\n",
              "      background-color: #3B4455;\n",
              "      fill: #D2E3FC;\n",
              "    }\n",
              "\n",
              "    [theme=dark] .colab-df-convert:hover {\n",
              "      background-color: #434B5C;\n",
              "      box-shadow: 0px 1px 3px 1px rgba(0, 0, 0, 0.15);\n",
              "      filter: drop-shadow(0px 1px 2px rgba(0, 0, 0, 0.3));\n",
              "      fill: #FFFFFF;\n",
              "    }\n",
              "  </style>\n",
              "\n",
              "      <script>\n",
              "        const buttonEl =\n",
              "          document.querySelector('#df-23bd7fa1-8b91-4671-a7d4-c28cfacaffb3 button.colab-df-convert');\n",
              "        buttonEl.style.display =\n",
              "          google.colab.kernel.accessAllowed ? 'block' : 'none';\n",
              "\n",
              "        async function convertToInteractive(key) {\n",
              "          const element = document.querySelector('#df-23bd7fa1-8b91-4671-a7d4-c28cfacaffb3');\n",
              "          const dataTable =\n",
              "            await google.colab.kernel.invokeFunction('convertToInteractive',\n",
              "                                                     [key], {});\n",
              "          if (!dataTable) return;\n",
              "\n",
              "          const docLinkHtml = 'Like what you see? Visit the ' +\n",
              "            '<a target=\"_blank\" href=https://colab.research.google.com/notebooks/data_table.ipynb>data table notebook</a>'\n",
              "            + ' to learn more about interactive tables.';\n",
              "          element.innerHTML = '';\n",
              "          dataTable['output_type'] = 'display_data';\n",
              "          await google.colab.output.renderOutput(dataTable, element);\n",
              "          const docLink = document.createElement('div');\n",
              "          docLink.innerHTML = docLinkHtml;\n",
              "          element.appendChild(docLink);\n",
              "        }\n",
              "      </script>\n",
              "    </div>\n",
              "  </div>\n",
              "  "
            ]
          },
          "metadata": {},
          "execution_count": 43
        }
      ]
    },
    {
      "cell_type": "markdown",
      "source": [
        "# Let's also split our data into Genres and Devices"
      ],
      "metadata": {
        "id": "R1xBm2muN43M"
      }
    },
    {
      "cell_type": "code",
      "source": [
        "Male_Mobile = (userData['sex'] == 'Male') & (userData['device'] == 'Mobile')\n",
        "Female_Mobile = (userData['sex'] == 'Female') & (userData['device'] == 'Mobile')\n",
        "\n",
        "Male_Desktop = (userData['sex'] == 'Male') & (userData['device'] == 'Desktop')\n",
        "Female_Desktop = (userData['sex'] == 'Female') & (userData['device'] == 'Desktop')\n",
        "\n",
        "dataTable_Device = pd.DataFrame([['Devices', 'Men', 'Women', 'Total'],\n",
        "               ['Mobile', Male_Mobile.sum(), Female_Mobile.sum(), (Male_Mobile.sum() + Female_Mobile.sum())],\n",
        "               ['Desktop', Male_Desktop.sum(), Female_Desktop.sum(), (Male_Desktop.sum() + Female_Desktop.sum())]])\n",
        "\n",
        "dataTable_Device"
      ],
      "metadata": {
        "colab": {
          "base_uri": "https://localhost:8080/",
          "height": 144
        },
        "id": "5rZVLkwkNcie",
        "outputId": "11ae25d0-c42d-4229-dc73-bcc06e115a6d"
      },
      "execution_count": null,
      "outputs": [
        {
          "output_type": "execute_result",
          "data": {
            "text/plain": [
              "         0      1      2      3\n",
              "0  Devices    Men  Women  Total\n",
              "1   Mobile  15122  15078  30200\n",
              "2  Desktop  30203  29997  60200"
            ],
            "text/html": [
              "\n",
              "  <div id=\"df-b953cd4a-2425-463a-b5e9-1e71aeb989bd\">\n",
              "    <div class=\"colab-df-container\">\n",
              "      <div>\n",
              "<style scoped>\n",
              "    .dataframe tbody tr th:only-of-type {\n",
              "        vertical-align: middle;\n",
              "    }\n",
              "\n",
              "    .dataframe tbody tr th {\n",
              "        vertical-align: top;\n",
              "    }\n",
              "\n",
              "    .dataframe thead th {\n",
              "        text-align: right;\n",
              "    }\n",
              "</style>\n",
              "<table border=\"1\" class=\"dataframe\">\n",
              "  <thead>\n",
              "    <tr style=\"text-align: right;\">\n",
              "      <th></th>\n",
              "      <th>0</th>\n",
              "      <th>1</th>\n",
              "      <th>2</th>\n",
              "      <th>3</th>\n",
              "    </tr>\n",
              "  </thead>\n",
              "  <tbody>\n",
              "    <tr>\n",
              "      <th>0</th>\n",
              "      <td>Devices</td>\n",
              "      <td>Men</td>\n",
              "      <td>Women</td>\n",
              "      <td>Total</td>\n",
              "    </tr>\n",
              "    <tr>\n",
              "      <th>1</th>\n",
              "      <td>Mobile</td>\n",
              "      <td>15122</td>\n",
              "      <td>15078</td>\n",
              "      <td>30200</td>\n",
              "    </tr>\n",
              "    <tr>\n",
              "      <th>2</th>\n",
              "      <td>Desktop</td>\n",
              "      <td>30203</td>\n",
              "      <td>29997</td>\n",
              "      <td>60200</td>\n",
              "    </tr>\n",
              "  </tbody>\n",
              "</table>\n",
              "</div>\n",
              "      <button class=\"colab-df-convert\" onclick=\"convertToInteractive('df-b953cd4a-2425-463a-b5e9-1e71aeb989bd')\"\n",
              "              title=\"Convert this dataframe to an interactive table.\"\n",
              "              style=\"display:none;\">\n",
              "        \n",
              "  <svg xmlns=\"http://www.w3.org/2000/svg\" height=\"24px\"viewBox=\"0 0 24 24\"\n",
              "       width=\"24px\">\n",
              "    <path d=\"M0 0h24v24H0V0z\" fill=\"none\"/>\n",
              "    <path d=\"M18.56 5.44l.94 2.06.94-2.06 2.06-.94-2.06-.94-.94-2.06-.94 2.06-2.06.94zm-11 1L8.5 8.5l.94-2.06 2.06-.94-2.06-.94L8.5 2.5l-.94 2.06-2.06.94zm10 10l.94 2.06.94-2.06 2.06-.94-2.06-.94-.94-2.06-.94 2.06-2.06.94z\"/><path d=\"M17.41 7.96l-1.37-1.37c-.4-.4-.92-.59-1.43-.59-.52 0-1.04.2-1.43.59L10.3 9.45l-7.72 7.72c-.78.78-.78 2.05 0 2.83L4 21.41c.39.39.9.59 1.41.59.51 0 1.02-.2 1.41-.59l7.78-7.78 2.81-2.81c.8-.78.8-2.07 0-2.86zM5.41 20L4 18.59l7.72-7.72 1.47 1.35L5.41 20z\"/>\n",
              "  </svg>\n",
              "      </button>\n",
              "      \n",
              "  <style>\n",
              "    .colab-df-container {\n",
              "      display:flex;\n",
              "      flex-wrap:wrap;\n",
              "      gap: 12px;\n",
              "    }\n",
              "\n",
              "    .colab-df-convert {\n",
              "      background-color: #E8F0FE;\n",
              "      border: none;\n",
              "      border-radius: 50%;\n",
              "      cursor: pointer;\n",
              "      display: none;\n",
              "      fill: #1967D2;\n",
              "      height: 32px;\n",
              "      padding: 0 0 0 0;\n",
              "      width: 32px;\n",
              "    }\n",
              "\n",
              "    .colab-df-convert:hover {\n",
              "      background-color: #E2EBFA;\n",
              "      box-shadow: 0px 1px 2px rgba(60, 64, 67, 0.3), 0px 1px 3px 1px rgba(60, 64, 67, 0.15);\n",
              "      fill: #174EA6;\n",
              "    }\n",
              "\n",
              "    [theme=dark] .colab-df-convert {\n",
              "      background-color: #3B4455;\n",
              "      fill: #D2E3FC;\n",
              "    }\n",
              "\n",
              "    [theme=dark] .colab-df-convert:hover {\n",
              "      background-color: #434B5C;\n",
              "      box-shadow: 0px 1px 3px 1px rgba(0, 0, 0, 0.15);\n",
              "      filter: drop-shadow(0px 1px 2px rgba(0, 0, 0, 0.3));\n",
              "      fill: #FFFFFF;\n",
              "    }\n",
              "  </style>\n",
              "\n",
              "      <script>\n",
              "        const buttonEl =\n",
              "          document.querySelector('#df-b953cd4a-2425-463a-b5e9-1e71aeb989bd button.colab-df-convert');\n",
              "        buttonEl.style.display =\n",
              "          google.colab.kernel.accessAllowed ? 'block' : 'none';\n",
              "\n",
              "        async function convertToInteractive(key) {\n",
              "          const element = document.querySelector('#df-b953cd4a-2425-463a-b5e9-1e71aeb989bd');\n",
              "          const dataTable =\n",
              "            await google.colab.kernel.invokeFunction('convertToInteractive',\n",
              "                                                     [key], {});\n",
              "          if (!dataTable) return;\n",
              "\n",
              "          const docLinkHtml = 'Like what you see? Visit the ' +\n",
              "            '<a target=\"_blank\" href=https://colab.research.google.com/notebooks/data_table.ipynb>data table notebook</a>'\n",
              "            + ' to learn more about interactive tables.';\n",
              "          element.innerHTML = '';\n",
              "          dataTable['output_type'] = 'display_data';\n",
              "          await google.colab.output.renderOutput(dataTable, element);\n",
              "          const docLink = document.createElement('div');\n",
              "          docLink.innerHTML = docLinkHtml;\n",
              "          element.appendChild(docLink);\n",
              "        }\n",
              "      </script>\n",
              "    </div>\n",
              "  </div>\n",
              "  "
            ]
          },
          "metadata": {},
          "execution_count": 44
        }
      ]
    },
    {
      "cell_type": "markdown",
      "source": [
        "# Data visualization 📉"
      ],
      "metadata": {
        "id": "8QzuH70hUo80"
      }
    },
    {
      "cell_type": "code",
      "source": [
        "# Chart stages data\n",
        "# Let's inverse the order so that the Homepage and followings can come up first in the viz\n",
        "phases = ['Confirm','Payment','Search', 'Home']\n",
        "values = [452, 6030, 45200, 90400]\n",
        "\n",
        "# Color of each funnel section\n",
        "# colors = ['rgb(0, 102, 204)', 'rgb(51, 153, 255)', 'rgb(0, 102, 204)', 'rgb(204, 255, 255)']\n",
        "colors = [(204/255, 255/255, 255/255), (0/255, 102/255, 204/255), (51/255, 153/255, 255/255), (0/255, 102/255, 204/255)]\n",
        "\n",
        "\n",
        "# Create a figure and axis\n",
        "fig, ax = plt.subplots(figsize=(10, 6))\n",
        "\n",
        "# Plot the funnel chart\n",
        "ax.barh(phases, values, color=colors)\n",
        "\n",
        "# Set the title and labels\n",
        "ax.set_title('User Funnel Visualization')\n",
        "ax.set_xlabel('Number of Users')\n",
        "ax.set_ylabel('Phases')\n",
        "\n",
        "# Set the x-axis tick positions and labels\n",
        "ax.set_xticks(values)\n",
        "ax.set_xticklabels(values)\n",
        "\n",
        "# Show the plot\n",
        "plt.show()\n",
        "\n"
      ],
      "metadata": {
        "id": "COVNg9a9FHih",
        "colab": {
          "base_uri": "https://localhost:8080/",
          "height": 564
        },
        "outputId": "398569f6-d3e6-48fa-bc43-8d85453118e6"
      },
      "execution_count": null,
      "outputs": [
        {
          "output_type": "display_data",
          "data": {
            "text/plain": [
              "<Figure size 1000x600 with 1 Axes>"
            ],
            "image/png": "[encoded data removed]"
          },
          "metadata": {}
        }
      ]
    },
    {
      "cell_type": "markdown",
      "source": [
        "Here's the visual representation of the table above, now we can see clearly how the user convertion works for each page and which page deserve some specific actions."
      ],
      "metadata": {
        "id": "dzJ0l1a0t1BV"
      }
    },
    {
      "cell_type": "markdown",
      "source": [
        "# **User conversion by genre**"
      ],
      "metadata": {
        "id": "pjOEgqH1Rhkf"
      }
    },
    {
      "cell_type": "code",
      "source": [
        "# Genres\n",
        "genres = ['Male', 'Female']\n",
        "\n",
        "# Funnel stages data for each genre\n",
        "home_Page = [45325, 45075]\n",
        "search_Page = [22524, 22676]\n",
        "payment_Page = [2930, 3100]\n",
        "confirmation_Page = [211, 241]\n",
        "\n",
        "# Funnel stage labels\n",
        "stages = ['Home_Page', 'Search_Page', 'Payment_Page', 'Confirmation_Page']\n",
        "\n",
        "# Set up positions for the bars\n",
        "bar_positions = range(len(genres))\n",
        "\n",
        "# Set up the bar width\n",
        "bar_width = 0.2\n",
        "\n",
        "# Create a figure and axis\n",
        "fig, ax = plt.subplots(figsize=(10, 6))\n",
        "\n",
        "# Plot the funnel stages for each genre\n",
        "ax.barh(bar_positions, home_Page, height=bar_width, label='Homepage')\n",
        "ax.barh(bar_positions, search_Page, height=bar_width, left=home_Page, label='Searchpage')\n",
        "ax.barh(bar_positions, payment_Page, height=bar_width, left=[x + y for x, y in zip(home_Page, search_Page)], label='Paymentpage')\n",
        "ax.barh(bar_positions, confirmation_Page, height=bar_width, left=[x + y + z for x, y, z in zip(home_Page, search_Page, payment_Page)], label='Confirmation')\n",
        "\n",
        "# Set the title and labels\n",
        "ax.set_title('User Filtering by Genre')\n",
        "ax.set_xlabel('Number of Users')\n",
        "ax.set_ylabel('Genres')\n",
        "\n",
        "# Set the y-axis tick positions and labels\n",
        "ax.set_yticks(bar_positions)\n",
        "ax.set_yticklabels(genres)\n",
        "\n",
        "# Add a legend\n",
        "ax.legend()\n",
        "\n",
        "# Show the plot\n",
        "plt.show()\n"
      ],
      "metadata": {
        "id": "XSFqXh163-LJ",
        "colab": {
          "base_uri": "https://localhost:8080/",
          "height": 564
        },
        "outputId": "59a9c050-a8ee-41bf-87aa-929dda522a62"
      },
      "execution_count": null,
      "outputs": [
        {
          "output_type": "display_data",
          "data": {
            "text/plain": [
              "<Figure size 1000x600 with 1 Axes>"
            ],
            "image/png": "[encoded data removed]"
          },
          "metadata": {}
        }
      ]
    },
    {
      "cell_type": "markdown",
      "source": [
        "# **User conversion by genre - Histogram**"
      ],
      "metadata": {
        "id": "18qJM_HjvL1k"
      }
    },
    {
      "cell_type": "code",
      "source": [
        "# Sample data\n",
        "phases = ['Home', 'Search', 'Payment', 'Confirm']\n",
        "men_data = [45325, 22524, 2930, 211]\n",
        "women_data = [45075, 22676, 3100, 241]\n",
        "\n",
        "# Generate x-axis ticks\n",
        "x = np.arange(len(phases))\n",
        "\n",
        "# Width of the bars\n",
        "width = 0.35\n",
        "\n",
        "# Create the figure and axis\n",
        "fig, ax = plt.subplots(figsize=(10, 8))\n",
        "\n",
        "# Plot the bars for Men\n",
        "rects1 = ax.bar(x - width/2, men_data, width, label='Men')\n",
        "\n",
        "# Plot the bars for Women\n",
        "rects2 = ax.bar(x + width/2, women_data, width, label='Women')\n",
        "\n",
        "# Set labels and title\n",
        "ax.set_xlabel('Phases')\n",
        "ax.set_ylabel('User Count')\n",
        "ax.set_title('User Count by Phase and Gender')\n",
        "ax.set_xticks(x)\n",
        "ax.set_xticklabels(stages)\n",
        "ax.legend()\n",
        "\n",
        "# Display the plot\n",
        "plt.show()\n",
        "\n"
      ],
      "metadata": {
        "colab": {
          "base_uri": "https://localhost:8080/",
          "height": 718
        },
        "id": "To3Sqf1fC4TQ",
        "outputId": "ddf0ee07-57a6-4e84-e115-0f14439d847d"
      },
      "execution_count": null,
      "outputs": [
        {
          "output_type": "display_data",
          "data": {
            "text/plain": [
              "<Figure size 1000x800 with 1 Axes>"
            ],
            "image/png": "[encoded data removed]"
          },
          "metadata": {}
        }
      ]
    },
    {
      "cell_type": "markdown",
      "source": [
        "From the previous visualizations, we can observe that from the Search page and the Confirmation page, there are slightly more Women conversion activity than Men."
      ],
      "metadata": {
        "id": "KNRoyxAiLJg8"
      }
    },
    {
      "cell_type": "markdown",
      "source": [
        "# **User conversion by devices - Pie chart**"
      ],
      "metadata": {
        "id": "D-QxyriPSCiT"
      }
    },
    {
      "cell_type": "code",
      "source": [
        "# Sample data\n",
        "devices = ['Desktop', 'Mobile']\n",
        "men_data = [15122, 30203]\n",
        "women_data = [15078, 29997]\n",
        "# device_count = [30200, 60200]\n",
        "\n",
        "# Combine the data for both genders\n",
        "# total_data = [men_data, women_data]\n",
        "\n",
        "# Combine the data for Men and Women for each stage\n",
        "total_data = [men_data[i] + women_data[i] for i in range(len(devices))]\n",
        "\n",
        "# Colors for the pie chart\n",
        "colors = ['#1f77b4', '#ff7f0e', '#2ca02c', '#d62728']\n",
        "\n",
        "# Create the pie chart\n",
        "fig, ax = plt.subplots()\n",
        "ax.pie(total_data, labels=devices, colors=colors, autopct='%1.1f%%', startangle=90)\n",
        "\n",
        "# Set aspect ratio to be equal so that pie is drawn as a circle\n",
        "ax.axis('equal')\n",
        "\n",
        "# Set title\n",
        "ax.set_title('User conversion by Device')\n",
        "\n",
        "# Display the plot\n",
        "plt.show()\n"
      ],
      "metadata": {
        "colab": {
          "base_uri": "https://localhost:8080/",
          "height": 428
        },
        "id": "Be9e5irJHGju",
        "outputId": "ad53bcf8-f072-4386-effc-ceaab05443fa"
      },
      "execution_count": null,
      "outputs": [
        {
          "output_type": "display_data",
          "data": {
            "text/plain": [
              "<Figure size 640x480 with 1 Axes>"
            ],
            "image/png": "[encoded data removed]"
          },
          "metadata": {}
        }
      ]
    },
    {
      "cell_type": "markdown",
      "source": [
        "As the graphic shows, 66.6% of the users are using a mobile device, the others are using a desktop. \n",
        "In regard to the user conversion decrease, we can assume that the cause in decrease may be due to:\n",
        "\n",
        "\n",
        "*   A bad user interface or experience specially in mobile devices.\n",
        "*   A trust in Security about sensitive information since the biggest drop happen to be from the Payment page to the Confirmation page.\n",
        "*   Technical issue such as crashes, errors or slow performace.\n",
        "\n",
        "To mend the major drop issue, the company should gather information from the users to know what they like and don't like about their experience on the app, conduct test on the most affected pages to check if there aren't any issues, bugs, crashes or other issues that may discouraged the users from continuing further.\n",
        "\n",
        "\n",
        "\n"
      ],
      "metadata": {
        "id": "HTZBG30sphvb"
      }
    },
    {
      "cell_type": "code",
      "source": [],
      "metadata": {
        "id": "e2xPAQpaSMs-"
      },
      "execution_count": null,
      "outputs": []
    }
  ]
}